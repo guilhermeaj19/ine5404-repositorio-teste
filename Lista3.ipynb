{
  "metadata": {
    "language_info": {
      "codemirror_mode": {
        "name": "python",
        "version": 3
      },
      "file_extension": ".py",
      "mimetype": "text/x-python",
      "name": "python",
      "nbconvert_exporter": "python",
      "pygments_lexer": "ipython3",
      "version": "3.8"
    },
    "kernelspec": {
      "name": "python",
      "display_name": "Python (Pyodide)",
      "language": "python"
    }
  },
  "nbformat_minor": 4,
  "nbformat": 4,
  "cells": [
    {
      "cell_type": "markdown",
      "source": "Exercício 1. Escreva uma função que conta a frequência de ocorrência de cada\npalavra em um texto (arquivo txt) e armazena tal quantidade em um dicionário, onde a\nchave é a vogal considerada",
      "metadata": {}
    },
    {
      "cell_type": "markdown",
      "source": "Exercício 2. Escreva uma função que apaga do dicionário anterior, todas as palavras\nque sejam ‘stopwords’. Ver https://gist.github.com/alopes/5358189",
      "metadata": {}
    },
    {
      "cell_type": "code",
      "source": "class Dicionario:\n    def __init__(self,palavras = [],dicionario = {}):\n        self.palavras = palavras\n        self.dicionario = dicionario\n\n    def copiaTexto(self):\n        texto = open(\"arquivo.txt\")\n        for linha in texto.readlines():\n            for palavra in linha.split():\n                palavra = palavra.lower()\n                for letra in palavra:\n                    if ord(letra) not in range(97,123) and ord(letra) not in range(192,256):\n                        palavra = palavra.replace(letra,'')\n                self.palavras.append(palavra)\n        texto.close()                \n        return self.dicionarizar()\n\n    def dicionarizar(self):\n        for palavra in self.palavras:\n            try:\n                self.dicionario[palavra] += 1\n            except:\n                self.dicionario[palavra] = 1\n\n    def apagar_stopwords(self):\n        words = self.stopwords()\n        for palavra in words:\n            if palavra in self.dicionario:\n                del self.dicionario[palavra]\n\n    def stopwords(self):\n        stopwords = open(\"stopwords.txt\")\n        words = stopwords.readlines()\n        words = ''.join(words)\n        words = words.split()\n        return words\n\ndicionario = Dicionario()\ndicionario.copiaTexto()\ndicionario.apagar_stopwords()\nprint(dicionario.dicionario)",
      "metadata": {
        "trusted": true
      },
      "execution_count": 4,
      "outputs": [
        {
          "name": "stdout",
          "text": "{'célebre': 1, 'texto': 1, 'cidadanias': 1, 'mutiladas': 1, 'geógrafo': 1, 'brasileiro': 1, 'milton': 1, 'santos': 1, 'afirma': 3, 'democracia': 1, 'efetiva': 1, 'medida': 2, 'atinge': 1, 'totalidade': 1, 'corpo': 1, 'social': 4, 'direitos': 5, 'desfrutados': 1, 'todos': 2, 'cidadãos': 3, 'todavia': 1, 'contexto': 1, 'hodierno': 1, 'invisibilidade': 2, 'intrínseca': 2, 'falta': 3, 'documentação': 3, 'pessoal': 1, 'distancia': 1, 'brasileiros': 4, 'constitucionalmente': 1, 'garantidos': 1, 'nesse': 2, 'cenário': 1, 'garantia': 2, 'acesso': 5, 'cidadania': 6, 'brasil': 3, 'estorvos': 1, 'burocratização': 1, 'processo': 3, 'retirada': 4, 'registro': 2, 'civil': 2, 'bem': 2, 'indiferença': 2, 'sociedade': 2, 'diante': 2, 'dessa': 1, 'problemática': 1, 'nessa': 1, 'perspectiva': 1, 'importante': 2, 'analisar': 1, 'dificuldades': 1, 'relativas': 1, 'documentos': 4, 'pessoais': 3, 'comprometem': 1, 'sentido': 1, 'ainda': 1, 'gratuidade': 1, 'nascimento': 1, 'assegurada': 1, 'lei': 1, 'número': 2, '': 2, 'carta': 1, 'magna': 1, 'problemas': 2, 'associados': 1, 'ultrapassam': 1, 'esfera': 1, 'financeira': 1, 'vista': 2, 'demanda': 1, 'registros': 3, 'civis': 3, 'incompatível': 1, 'disponibilidade': 1, 'vagas': 2, 'ofertadas': 2, 'órgãos': 1, 'responsáveis': 2, 'torna': 1, 'lento': 1, 'burocrático': 1, 'sob': 2, 'tal': 2, 'óptica': 1, 'realidade': 1, 'brasileira': 1, 'pode': 1, 'sintetizada': 1, 'pensamento': 2, 'sociólogo': 1, 'francês': 1, 'pierre': 1, 'bourdieu': 1, 'violência': 1, 'simbólica': 1, 'expressa': 1, 'determinada': 1, 'parcela': 1, 'população': 1, 'usufrui': 1, 'mesmos': 1, 'fato': 1, 'semelhante': 1, 'relacionada': 1, 'imbróglios': 1, 'identificação': 1, 'país': 1, 'outrossim': 1, 'válido': 1, 'destacar': 1, 'ausência': 1, 'engajamento': 2, 'fator': 1, 'corrobora': 1, 'fica': 2, 'claro': 1, 'pois': 1, 'importância': 1, 'assegurar': 2, 'indivíduos': 2, 'silencia': 1, 'temática': 2, 'conjuntura': 1, 'compromete': 1, 'muitos': 1, 'posse': 1, 'faz': 1, 'obrigatória': 1, 'acessar': 1, 'benefícios': 1, 'sociais': 2, 'oferecidos': 1, 'estado': 1, 'viés': 1, 'lícito': 1, 'referenciar': 1, 'professor': 1, 'israelense': 1, 'yuval': 1, 'harari': 1, 'obra': 1, 'lições': 1, 'século': 1, 'xxi': 1, 'grande': 1, 'parte': 1, 'capaz': 1, 'perceber': 1, 'reais': 1, 'mundo': 1, 'favorece': 1, 'adoção': 1, 'postura': 1, 'passiva': 1, 'apática': 1, 'tornase': 1, 'imperativo': 1, 'portanto': 1, 'cabe': 1, 'ministério': 2, 'autoridade': 1, 'facilitar': 1, 'deve': 1, 'realizada': 1, 'partir': 1, 'aumento': 1, 'diariamente': 1, 'principais': 1, 'centros': 1, 'além': 1, 'estabelecimento': 1, 'maior': 1, 'funcionários': 1, 'fim': 1, 'tornar': 1, 'procedimento': 1, 'dinâmico': 1, 'acessível': 1, 'garantir': 1, 'ademais': 1, 'cargo': 1, 'comunicações': 1, 'estimular': 1, 'meio': 1, 'propagandas': 1, 'televisivas': 1, 'redes': 1, 'fito': 1, 'dar': 1, 'visibilidade': 1, 'assim': 1}\n",
          "output_type": "stream"
        }
      ]
    },
    {
      "cell_type": "markdown",
      "source": "Exercício 3. Escreva um programa que lê duas notas de vários alunos e armazena tais\nnotas em um dicionário, onde a chave é o nome do aluno. A entrada de dados deve\nterminar quando for lida uma string vazia como nome. Escreva uma função que retorna\na média do aluno, dado seu nome.",
      "metadata": {}
    },
    {
      "cell_type": "code",
      "source": "class Aluno:\n    def __init__(self, nome: str, notas: tuple):\n        self.notas = {nome: notas}\n    \n    def media(self,nome):\n        notas = self.notas[nome]\n        return f'{(notas[0]+notas[1])/2:.2f}'\n\nclass Turma:\n    def __init__(self, alunos = []):\n        self.alunos = alunos\n        \n    def addAluno(self,aluno):\n        self.alunos.append(aluno)\n    \n    def procuraAluno(self,nome):\n        for aluno in self.alunos:\n            if nome in aluno.notas:\n                return aluno.media(nome)\n\nturma = Turma()\n\nwhile True:\n    \"\"\"\n    #nome = input()\n    \n    if nome == '':\n        break\n    #notas = (float(x) for x in input().split())\n    #turma.addAluno(Aluno(nome,notas))\"\"\"\n    \n    break\n\nturma.addAluno(Aluno('a',(5,6)))\nturma.addAluno(Aluno('b',(5,9)))\nturma.addAluno(Aluno('c',(8,6)))\nturma.addAluno(Aluno('d',(4,9)))\nprint(turma.procuraAluno('a'))\nprint(turma.procuraAluno('b'))\nprint(turma.procuraAluno('c'))\nprint(turma.procuraAluno('d'))",
      "metadata": {
        "trusted": true
      },
      "execution_count": 28,
      "outputs": [
        {
          "name": "stdout",
          "text": "5.50\n7.00\n7.00\n6.50\n",
          "output_type": "stream"
        }
      ]
    },
    {
      "cell_type": "markdown",
      "source": "Exercício 4. Uma pista de Kart permite 10 voltas para cada um de 6 corredores.\nEscreva um programa que leia todos os tempos em segundos e os guarde em um\ndicionário, onde a chave é o nome do corredor. Ao final diga de quem foi a melhor volta\nda prova e em que volta; e ainda a classificação final em ordem (1o o campeão). O\ncampeão é o que tem a menor média de tempos.",
      "metadata": {}
    },
    {
      "cell_type": "code",
      "source": "class Corredor:\n    def __init__(self, nome: str, tempos: tuple):\n        self.nome = nome\n        self.tempos = tempos\n    \n    def \n    \nclass Corrida:\n    def __init__(self, corredores = {}):\n        self.corredores = corredores\n    \n    def addCorredor(self,corredor):\n        self.corredores[corredor.g\n    ",
      "metadata": {},
      "execution_count": null,
      "outputs": []
    }
  ]
}