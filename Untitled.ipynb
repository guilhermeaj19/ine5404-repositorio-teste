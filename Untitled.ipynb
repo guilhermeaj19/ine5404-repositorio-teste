{
  "metadata": {
    "language_info": {
      "codemirror_mode": {
        "name": "python",
        "version": 3
      },
      "file_extension": ".py",
      "mimetype": "text/x-python",
      "name": "python",
      "nbconvert_exporter": "python",
      "pygments_lexer": "ipython3",
      "version": "3.8"
    },
    "kernelspec": {
      "name": "python",
      "display_name": "Python (Pyodide)",
      "language": "python"
    }
  },
  "nbformat_minor": 4,
  "nbformat": 4,
  "cells": [
    {
      "cell_type": "markdown",
      "source": "Exercício 1. Escreva uma função que conta a frequência de ocorrência de cada\npalavra em um texto (arquivo txt) e armazena tal quantidade em um dicionário, onde a\nchave é a vogal considerada",
      "metadata": {}
    },
    {
      "cell_type": "code",
      "source": "class Dicionario:\n    def __init__(self):\n        pass\n    \n    def copiaTexto(self):\n        self.palavras = []\n        texto = open(\"arquivo.txt\")\n        for linha in texto.readlines():\n            for palavra in linha.split():\n                palavra = palavra.lower()\n                for letra in palavra:\n                    if ord(letra) not in range(97,123) and ord(letra) not in range(192,256):\n                        palavra = palavra.replace(letra,'')\n                self.palavras.append(palavra)\n                        \n        return self.dicionarizar()\n    \n    def dicionarizar(self):\n        self.dicionario = {}\n        for palavra in self.palavras:\n            try:\n                self.dicionario[palavra] += 1\n            except:\n                self.dicionario[palavra] = 1\n        print(self.dicionario)\n        \ndicionario = Dicionario().copiaTexto()",
      "metadata": {
        "trusted": true
      },
      "execution_count": 4,
      "outputs": [
        {
          "name": "stdout",
          "text": "{'eu': 2, 'já': 43, 'dei': 1, 'risada': 1, 'até': 5, 'a': 6, 'barriga': 1, 'doer': 1, 'nadei': 1, 'perder': 1, 'o': 6, 'fôlego': 1, 'chorei': 4, 'dormir': 2, 'e': 18, 'acordei': 2, 'com': 4, 'rosto': 2, 'desfigurado': 1, 'fiz': 4, 'cosquinha': 1, 'na': 6, 'minha': 1, 'irmã': 1, 'só': 2, 'pra': 7, 'ela': 1, 'parar': 1, 'de': 21, 'chorar': 1, 'me': 7, 'queimei': 1, 'brincando': 1, 'vela': 1, 'bola': 1, 'chiclete': 1, 'melequei': 1, 'todo': 1, 'conversei': 1, 'espelho': 1, 'brinquei': 1, 'ser': 3, 'bruxo': 1, 'quis': 1, 'astronauta': 1, 'violonista': 1, 'mágico': 1, 'caçador': 1, 'trapezista': 1, 'escondi': 1, 'atrás': 1, 'da': 6, 'cortina': 1, 'esqueci': 1, 'os': 2, 'pés': 1, 'fora': 1, 'passei': 1, 'trote': 1, 'por': 3, 'telefone': 1, 'tomei': 1, 'banho': 1, 'chuva': 1, 'acabei': 1, 'viciando': 1, 'roubei': 2, 'beijo': 1, 'confissões': 1, 'antes': 1, 'num': 3, 'quarto': 1, 'escuro': 2, 'pro': 2, 'melhor': 1, 'amigo': 1, 'confundi': 1, 'sentimentos': 1, 'peguei': 1, 'atalho': 1, 'errado': 1, 'continuo': 1, 'andando': 1, 'pelo': 1, 'desconhecido': 1, 'raspei': 1, 'fundo': 1, 'panela': 1, 'arroz': 1, 'carreteiro': 1, 'cortei': 1, 'fazendo': 1, 'barba': 1, 'apressado': 1, 'ouvindo': 2, 'música': 1, 'no': 8, 'ônibus': 1, 'tentei': 1, 'esquecer': 2, 'algumas': 1, 'pessoas': 2, 'mas': 4, 'descobri': 2, 'que': 4, 'essas': 1, 'são': 1, 'as': 1, 'mais': 1, 'difíceis': 1, 'se': 1, 'subi': 2, 'escondido': 1, 'telhado': 1, 'tentar': 1, 'pegar': 1, 'estrelas': 2, 'em': 2, 'árvore': 1, 'roubar': 1, 'fruta': 1, 'caí': 1, 'escada': 1, 'bunda': 1, 'conheci': 1, 'morte': 1, 'perto': 1, 'agora': 2, 'anseio': 1, 'viver': 1, 'cada': 1, 'dia': 1, 'juras': 1, 'eternas': 1, 'escrevi': 1, 'muro': 1, 'escola': 1, 'sentado': 1, 'chão': 1, 'do': 2, 'banheiro': 1, 'fugi': 1, 'casa': 1, 'sempre': 4, 'voltei': 1, 'outro': 1, 'instante': 1, 'saí': 1, 'caminhar': 1, 'sem': 4, 'rumo': 1, 'nada': 1, 'cabeça': 1, 'corri': 1, 'não': 4, 'deixar': 1, 'alguém': 2, 'chorando': 1, 'fiquei': 2, 'sozinho': 1, 'meio': 2, 'mil': 1, 'sentindo': 1, 'falta': 1, 'uma': 2, 'vi': 2, 'pôrdosol': 1, 'corderosa': 1, 'alaranjado': 1, 'joguei': 1, 'piscina': 1, 'vontade': 1, 'voltar': 1, 'bebi': 1, 'uísque': 1, 'sentir': 1, 'dormentes': 1, 'meus': 1, 'lábios': 1, 'olhei': 1, 'cidade': 1, 'cima': 1, 'mesmo': 2, 'assim': 1, 'encontrei': 1, 'meu': 2, 'lugar': 1, 'senti': 1, 'medo': 2, 'tremi': 1, 'nervoso': 1, 'quase': 1, 'morri': 1, 'amor': 1, 'renasci': 1, 'novamente': 1, 'ver': 2, 'sorriso': 1, 'especial': 1, 'noite': 1, 'levantar': 1, 'apostei': 1, 'correr': 1, 'descalço': 1, 'rua': 1, 'gritei': 1, 'felicidade': 1, 'rosas': 1, 'enorme': 1, 'jardim': 1, 'apaixonei': 1, 'achei': 1, 'era': 2, 'para': 2, 'um': 3, 'pela': 1, 'metade': 1, 'deitei': 1, 'grama': 1, 'madrugada': 1, 'lua': 1, 'virar': 1, 'sol': 1, 'amigos': 1, 'partindo': 1, 'logo': 1, 'chegam': 1, 'novos': 1, 'vida': 1, 'é': 2, 'ir': 1, 'vir': 1, 'razão': 1, 'foram': 1, 'tantas': 1, 'coisas': 1, 'feitas': 1, 'momentos': 1, 'fotografados': 1, 'pelas': 1, 'lentes': 1, 'emoção': 1, 'guardados': 1, 'baú': 1, 'chamado': 1, 'coração': 1, 'formulário': 1, 'interroga': 1, 'encostame': 1, 'parede': 1, 'grita': 1, '': 1, 'qual': 1, 'sua': 1, 'experiência': 4, 'essa': 1, 'pergunta': 1, 'ecoa': 1, 'cérebro': 1, 'será': 1, 'plantador': 1, 'sorrisos': 1, 'boa': 1, 'talvez': 1, 'eles': 1, 'saibam': 1, 'ainda': 1, 'colher': 1, 'sonhos': 1}\n",
          "output_type": "stream"
        }
      ]
    },
    {
      "cell_type": "markdown",
      "source": "Exercício 2. Escreva uma função que apaga do dicionário anterior, todas as palavras\nque sejam ‘stopwords’. Ver https://gist.github.com/alopes/5358189",
      "metadata": {}
    },
    {
      "cell_type": "code",
      "source": "import requests\n\nres = requests.get('https://gist.github.com/alopes/5358189')",
      "metadata": {
        "trusted": true
      },
      "execution_count": 7,
      "outputs": [
        {
          "ename": "<class 'ModuleNotFoundError'>",
          "evalue": "No module named 'requests'",
          "traceback": [
            "\u001b[0;31m---------------------------------------------------------------------------\u001b[0m",
            "\u001b[0;31mModuleNotFoundError\u001b[0m                       Traceback (most recent call last)",
            "Cell \u001b[0;32mIn [7], line 1\u001b[0m\n\u001b[0;32m----> 1\u001b[0m \u001b[38;5;28;01mimport\u001b[39;00m \u001b[38;5;21;01mrequests\u001b[39;00m\n\u001b[1;32m      3\u001b[0m res \u001b[38;5;241m=\u001b[39m requests\u001b[38;5;241m.\u001b[39mget(\u001b[38;5;124m'\u001b[39m\u001b[38;5;124mhttps://gist.github.com/alopes/5358189\u001b[39m\u001b[38;5;124m'\u001b[39m)\n",
            "\u001b[0;31mModuleNotFoundError\u001b[0m: No module named 'requests'"
          ],
          "output_type": "error"
        }
      ]
    },
    {
      "cell_type": "code",
      "source": "",
      "metadata": {},
      "execution_count": null,
      "outputs": []
    }
  ]
}