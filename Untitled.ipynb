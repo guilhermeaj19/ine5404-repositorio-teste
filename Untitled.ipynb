{
  "metadata": {
    "language_info": {
      "codemirror_mode": {
        "name": "python",
        "version": 3
      },
      "file_extension": ".py",
      "mimetype": "text/x-python",
      "name": "python",
      "nbconvert_exporter": "python",
      "pygments_lexer": "ipython3",
      "version": "3.8"
    },
    "kernelspec": {
      "name": "python",
      "display_name": "Python (Pyodide)",
      "language": "python"
    }
  },
  "nbformat_minor": 4,
  "nbformat": 4,
  "cells": [
    {
      "cell_type": "markdown",
      "source": "Exercício 4: Séries\nImplemente uma classe que, implementa algumas séries matemáticas importantes: Fibonacci,\nFatorial, Fibonarial, Primo. Use recursão para Fibonacci e Fatorial.",
      "metadata": {}
    },
    {
      "cell_type": "code",
      "source": "\"\"\"No exercício 4, a função fibonarial foi interpretada como o produto de uma sequência \nde fibonacci de certo número de valores (fibonarial de 5 = 8*3*2*1*1 = 240). Já a função primo\nestá relacionado apenas a se um número é primo ou não\"\"\"\n\nclass serie_mtm:\n    def __init__(self,valor):\n        self.valor = valor\n\n    def fibonacci(self):\n        lista = [1,1]\n        for i in range(0,self.valor-2):\n            lista.append(lista[i]+lista[i+1])\n        return lista\n    \n    def fatorial(self):\n        valor = self.valor\n        resultado = self.valor\n        while True:\n            valor_anterior = valor-1\n            if valor_anterior < 1:\n                break\n            resultado = resultado*valor_anterior\n            valor = valor_anterior\n        return resultado\n\n    def fibonarial(self):\n        lista = self.fibonacci()\n        resultado = lista[0]\n        for a in range(1,len(lista)):\n            resultado = resultado*lista[a]\n        return resultado\n    \n    def primo(self):\n        for i in range(2,self.valor):\n            if self.valor%i == 0:\n                return \"não\" \n        return \"sim\"\n\n\nteste = serie_mtm(7)\nprint(f\"Sequência dos primeiros {teste.valor} números de Fibonacci: {teste.fibonacci()}\")\nprint(f\"Valor de {teste.valor}!: {teste.fatorial()}\")\nprint(f\"Valor de fibonarial de {teste.valor}: {teste.fibonarial()}\")\nprint(f\"O número {teste.valor} é primo: {teste.primo()}\")",
      "metadata": {
        "trusted": true
      },
      "execution_count": 23,
      "outputs": [
        {
          "name": "stdout",
          "text": "Sequência dos primeiros 7 números de Fibonacci: [1, 1, 2, 3, 5, 8, 13]\nValor de 7!: 5040\nValor de fibonarial de 7: 3120\nO número 7 é primo: sim\n",
          "output_type": "stream"
        }
      ]
    },
    {
      "cell_type": "code",
      "source": "",
      "metadata": {},
      "execution_count": null,
      "outputs": []
    },
    {
      "cell_type": "code",
      "source": "",
      "metadata": {},
      "execution_count": null,
      "outputs": []
    }
  ]
}