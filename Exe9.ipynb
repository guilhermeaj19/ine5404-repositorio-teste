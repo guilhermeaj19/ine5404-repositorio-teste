{
  "metadata": {
    "language_info": {
      "codemirror_mode": {
        "name": "python",
        "version": 3
      },
      "file_extension": ".py",
      "mimetype": "text/x-python",
      "name": "python",
      "nbconvert_exporter": "python",
      "pygments_lexer": "ipython3",
      "version": "3.8"
    },
    "kernelspec": {
      "name": "python",
      "display_name": "Python (Pyodide)",
      "language": "python"
    }
  },
  "nbformat_minor": 4,
  "nbformat": 4,
  "cells": [
    {
      "cell_type": "markdown",
      "source": "Exercício 9: Campo minado\nProjete os atributos e os métodos (sem implementação) necessários para a criação de um\ncampo minado.\n--- Desafio: Realize a implementação do jogo em modo textual",
      "metadata": {}
    },
    {
      "cell_type": "code",
      "source": "import random\n\nclass Campo:\n    def __init__(self,lados):\n        self.lados = lados\n        self.campo = []\n        \n    def setCampo(self):\n        for i in range(self.lados):\n            campo = []\n            for a in range(self.lados):\n                campo.append(Celula())\n            self.campo.append(campo)\n    \n    def colocarBomba(self):\n        for i in range(9):\n            linha = random.randint(0,self.lados-1)\n            coluna = random.randint(0,self.lados-1)\n            if self.campo[linha][coluna].getCelula() == 'x':\n                pass\n            else:\n                self.campo[linha][coluna].setCelula('x') \n            \n    def proximididadeBomba(self):\n        for linha,valor in enumerate(self.campo):\n            for coluna,valor2 in enumerate(valor):\n                if valor2.getCelula() == 'x':\n                    try:\n                        self.campo[linha-1][coluna-1].somaUm()\n                        self.campo[linha-1][coluna].somaUm()\n                        self.campo[linha-1][coluna+1].somaUm()\n                        self.campo[linha][coluna-1].somaUm()\n                        self.campo[linha][coluna+1].somaUm()\n                        self.campo[linha+1][coluna-1].somaUm()\n                        self.campo[linha+1][coluna].somaUm()\n                        self.campo[linha+1][coluna+1].somaUm()\n                    except:\n                        pass\n                    \n    def imprimirCampo(self):\n        for l in self.campo:\n            for c in l:\n                try:\n                    print(c.celula, end = '')  \n                except:\n                    print(c,end= '')\n            print()\n    \nclass Celula:\n    def __init__(self,celula = 0):\n        self.celula = celula\n        \n    def setCelula(self,valor):\n        self.celula = valor\n        \n    def getCelula(self):\n        return self.celula\n    \n    def somaUm(self):\n        self.celula += 1\n\njogo = Campo(9)\njogo.setCampo()\njogo.colocarBomba()\njogo.proximididadeBomba()\njogo.imprimirCampo()",
      "metadata": {
        "trusted": true
      },
      "execution_count": 78,
      "outputs": [
        {
          "name": "stdout",
          "text": "001x10000\n002220000\n012x10000\n00x111111\n1111x12x1\n1x11111x0\n111000111\n0000002x1\n0011101x0\n",
          "output_type": "stream"
        }
      ]
    },
    {
      "cell_type": "code",
      "source": "",
      "metadata": {},
      "execution_count": null,
      "outputs": []
    },
    {
      "cell_type": "code",
      "source": "",
      "metadata": {},
      "execution_count": null,
      "outputs": []
    }
  ]
}