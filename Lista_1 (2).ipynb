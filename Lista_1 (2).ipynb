{
  "metadata": {
    "language_info": {
      "codemirror_mode": {
        "name": "python",
        "version": 3
      },
      "file_extension": ".py",
      "mimetype": "text/x-python",
      "name": "python",
      "nbconvert_exporter": "python",
      "pygments_lexer": "ipython3",
      "version": "3.8"
    },
    "kernelspec": {
      "name": "python",
      "display_name": "Python (Pyodide)",
      "language": "python"
    }
  },
  "nbformat_minor": 4,
  "nbformat": 4,
  "cells": [
    {
      "cell_type": "markdown",
      "source": "WARM-UP",
      "metadata": {}
    },
    {
      "cell_type": "markdown",
      "source": "1) Crie a classe Televisao com os atributos ligada (inicializado com valor False) e canal\n(inicializado com valor 2).\n2) Adicione os atributos tamanho e marca à classe Televisao. Crie dois objetos Televisao e\natribua tamanhos e marcas diferentes. Depois, imprima o valor desses atributos de\nforma a confirmar independência dos valores de cada instância (objeto).\n3) Adicione dois novos métodos muda_canal_para_cima e muda_canal_para_baixo.\nAtualmente, a classe Televisao inicializa o canal com 2. Modifique a classe televisao de\nforma a receber o canal inicial em seu construtor.\n4) Adicione mais dois atributos canal_minimo (valor padrão 1) e canal_maximo (valor\npadrão 99) e modifique a classe Televisao de forma que, se pedirmos para mudar o\ncanal para baixo, além do mínimo, ela vá para o canal máximo. Se mudarmos para\ncima, além do canal máximo, que volte ao canal mínimo.\n5) Modifique o construtor da classe Televisao de forma que canal_minimo e canal_maximo\nseja parametros opcionais valendo respectivamente 2 e 14.\n6) Crie duas instancias de Televisao, especificando o valor de canal_minimo e\ncanal_maximo por nome.",
      "metadata": {}
    },
    {
      "cell_type": "code",
      "source": "class Televisao:\n    def __init__(self,tamanho, marca, ligada = False,canal = 2, canal_minimo = 2, canal_maximo = 14):\n        self.ligada = ligada\n        self.canal = canal\n        self.tamanho = tamanho\n        self.marca = marca\n        self.canal_minimo = canal_minimo\n        self.canal_maximo = canal_maximo\n    \n    def ligar(self):\n        self.ligada = True\n    \n    def desligar(self):\n        self.ligada = False\n        \n    def muda_canal_para_cima(self):\n        if self.ligada is True:\n            if self.canal == self.canal_maximo:\n                self.canal = self.canal_minimo\n            else:\n                self.canal += 1\n    def muda_canal_para_baixo(self):\n        if self.ligada is True:\n            if self.canal == self.canal_minimo:\n                self.canal = self.canal_maximo\n            else:\n                self.canal -= 1\n\ntele1 = Televisao(\"40\", \"Samsung\")\ntele2 = Televisao(\"32\", \"Sony\")\nprint(tele1.tamanho,tele1.marca)\nprint(tele2.tamanho,tele2.marca)\ntele1 = Televisao(\"40\", \"Samsung\", False, 4, 3, 19)\ntele2 = Televisao(\"32\", \"Sony\", True, 2, 2, 14)\ntele2.muda_canal_para_baixo()\ntele1.muda_canal_para_cima()\nprint(\"Canal TV1:\",tele1.canal)\nprint(\"Canal TV2:\",tele2.canal)\ntele1.ligar()\ntele1.muda_canal_para_cima()\nprint(\"Canal TV1:\",tele1.canal)",
      "metadata": {
        "trusted": true
      },
      "execution_count": 38,
      "outputs": [
        {
          "name": "stdout",
          "text": "40 Samsung\n32 Sony\nCanal TV1: 4\nCanal TV2: 14\nCanal TV1: 5\n",
          "output_type": "stream"
        }
      ]
    },
    {
      "cell_type": "markdown",
      "source": "7) Crie classes para representar estados e cidades. Cada estado tem um nome, sigla e cidades. Cada cidade tem nome e população. Escreva um programa de testes que crie três estados com algumas cidades em cada um. Exiba a população de cada estado como a soma da população de suas cidades",
      "metadata": {}
    },
    {
      "cell_type": "code",
      "source": "class Estado:\n    def __init__(self,nome,sigla,cidades = []):\n        self.nome = nome\n        self.sigla = sigla\n        self.cidades = cidades\n        \n    def inserir_cidade(self,cidade):\n        self.cidades.append(cidade)\n        \n    def calculo_populacao(self):\n        soma = 0\n        for cidade in self.cidades:\n            soma += cidade.get_populacao()\n        \n        return soma\n    \nclass Cidade:\n    def __init__(self,nome,populacao):\n        self.nome = nome\n        self.populacao = populacao\n    \n    def get_populacao(self):\n        return self.populacao\n    \nestado1 = Estado(\"Guanabá\", \"GB\", [Cidade(\"Gustavá\", 5000), Cidade(\"Bunda de Gambá\", 3400)])\nestado1.inserir_cidade(Cidade(\"Polmarinho\", 9040))\nestado2 = Estado(\"Juventude\", \"JV\")\nestado2.inserir_cidade(Cidade(\"Procastinacional\", 40030))\nestado2.inserir_cidade(Cidade(\"Aborrencity\", 90403))\nestado2.inserir_cidade(Cidade(\"Almadivelho\", 3023))\nestado3 = Estado(\"Morcing\", \"MC\", [Cidade(\"Batboy\", 399)])\nestado3.inserir_cidade(Cidade(\"Robin...Hood\", 903))\nestado3.inserir_cidade(Cidade(\"Alfredo\", 892))\nestado3.inserir_cidade(Cidade(\"Coringano\", 3023))\n\nprint(\"População Estado 1:\", estado1.calculo_populacao(), \"habitantes\")\nprint(\"População Estado 2:\", estado2.calculo_populacao(), \"habitantes\")\nprint(\"População Estado 3:\", estado3.calculo_populacao(), \"habitantes\")",
      "metadata": {
        "trusted": true
      },
      "execution_count": 44,
      "outputs": [
        {
          "name": "stdout",
          "text": "População Estado 1: 17440 habitantes\nPopulação Estado 2: 133456 habitantes\nPopulação Estado 3: 5217 habitantes\n",
          "output_type": "stream"
        }
      ]
    },
    {
      "cell_type": "markdown",
      "source": "8) Escreva uma classe Coordenada com atributos x e y, e métodos para mostrar as\ncoordenadas, calcular a distancia para outra coordenada, comparar coordenadas,\nmostrar no formato coordenada polar.",
      "metadata": {}
    },
    {
      "cell_type": "code",
      "source": "\"\"\"O método Comparar eu coloquei como um aglomerado de informações de cada uma das duas coordenadas: valores de X e Y e o formato polar\"\"\"\n\nimport numpy\n\nclass Coordenada:\n    def __init__(self,x = 0,y = 0):\n        self.x = x\n        self.y = y\n        \n    def imprimir(self):\n        return f\"({self.x}, {self.y})\"\n    \n    def distancia(self,c2):\n        distancia = ((self.x-c2.x)**2+(self.y-c2.y)**2)**(1/2)\n        return float(f\"{distancia:.2f}\")\n    \n    def formato_polar(self):\n        r = self.distancia(Coordenada())\n        angulo = numpy.arctan(self.x/self.y)\n        angulo = float(f\"{angulo:.2f}\")\n        \n        if angulo < 0:\n            angulo *= -1\n        return f\"({r}, {angulo})\"\n    \n    def comparar(self,c2):\n        print(f\"Coordenadas cartesianas\\t\\t{self.imprimir()}\\t|\\t{c2.imprimir()}\")\n        print(f\"Distância da origem\\t\\t{self.distancia(c2)}\\t|\\t{c2.distancia(self)}\")\n        print(f\"Formato polar\\t\\t{self.formato_polar()}\\t|\\t{c2.formato_polar()}\")\n\nc1 = Coordenada(3,4)\nc2 = Coordenada(5, -3)\nprint(c1.imprimir())\nprint(c1.formato_polar())\nprint(c2.formato_polar())\nc1.comparar(c2)",
      "metadata": {
        "trusted": true
      },
      "execution_count": 109,
      "outputs": [
        {
          "name": "stdout",
          "text": "(3, 4)\n(5.0, 0.64)\n(5.83, 1.03)\nCoordenadas cartesianas\t\t(3, 4)\t|\t(5, -3)\nDistância da origem\t\t7.28\t|\t7.28\nFormato polar\t\t(5.0, 0.64)\t|\t(5.83, 1.03)\n",
          "output_type": "stream"
        }
      ]
    },
    {
      "cell_type": "markdown",
      "source": "9) Escreva classes para as seguintes formas: quadrado, retângulo e círculo.",
      "metadata": {}
    },
    {
      "cell_type": "code",
      "source": "class Quadrado:\n    def __init__(self,lado):\n        self.lado = lado\n\nclass Retangulo:\n    def __init__(self,comprimento,largura):\n        self.comprimento = comprimento\n        self.largura = largura\n\nclass Circulo:\n    def __init__(self,raio):\n        self.raio = raio",
      "metadata": {
        "trusted": true
      },
      "execution_count": 111,
      "outputs": []
    },
    {
      "cell_type": "markdown",
      "source": "10) Escreva uma classe Fracao que armazena dois inteiros, numerador e denominador.\na) Implemente metodos para somas, subtração, multiplicação e divisão de duas\nfrações\nb) Implemente o método que imprime uma fração no formato numerador /\ndenominador\nc) Implemente um método que inverte a fração\nd) Implemente um método que retorna a fração em valor real\ne) Implemente um método que cria uma fração (numerador/denominador) a partir\nde um número real",
      "metadata": {}
    },
    {
      "cell_type": "code",
      "source": "class Fracao:\n    def __init__(self,num,den):\n        self.num = num\n        self.den = den\n            \n    def imprimi_num_den(self):\n        print(f\"{self.num}/{self.den}\")\n        \n    def soma(self,f2):\n        num = f2.den*self.num + f1.den+self.num\n        den = f2.den*f1.den\n        Fracao(num,den).imprimi_num_den()\n        \n    def sub(self,f2):\n        num = f2.den*self.num - f1.den+self.num\n        den = f2.den*f1.den\n        Fracao(num,den).imprimi_num_den()\n    \n    def multi(self,f2):\n        num = f2.num*f1.num\n        den = f2.den*f2.num\n        Fracao(num,den).imprimi_num_den()\n    \n    def div(self,f2):\n        num = f1.num*f2.den\n        den = f1.den*f2.num\n        Fracao(num,den).imprimi_num_den()\n        \n    def inverte(self):\n        self.num,self.den = self.den,self.num\n        \n    def valor_real(self):\n        return self.num/self.den\n    \ndef real_fracao(valor):\n    return Fracao(int(valor*10**(len(str(valor)))),10**(len(str(valor))))\n    \n\nf1 = Fracao(5,7)\nf2 = Fracao(4,9)\nf1.soma(f2)\nf1.sub(f2)\nf1.multi(f2)\nf1.div(f2)\nf1.imprimi_num_den()\nf2.inverte()\nf2.imprimi_num_den()\nprint(f1.valor_real())\nf3 = real_fracao(0.19)\nf3.imprimi_num_den()",
      "metadata": {
        "trusted": true
      },
      "execution_count": 122,
      "outputs": [
        {
          "name": "stdout",
          "text": "57/63\n43/63\n20/36\n45/28\n5/7\n9/4\n0.7142857142857143\n1900/10000\n",
          "output_type": "stream"
        }
      ]
    },
    {
      "cell_type": "markdown",
      "source": "EXERCÍCIOS",
      "metadata": {}
    },
    {
      "cell_type": "markdown",
      "source": "Exercício 1: Banco\nO banco Tatu, moderno e eficiente, precisa de um novo programa para controlar o saldo de seus correntistas. Cada conta corrente pode ter um ou mais clientes como titular. O banco controla apenas o nome e o telefone de cada cliente. A conta corrente apresenta um saldo e uma lista de operações de saques e depósitos. Quando o cliente fizer um saque, diminuiremos o saldo da conta corrente. Quando ele fizer um depósito, aumentaremos o saldo. O banco oferece também contas especiais, com limite especial além do saldo, e conta poupança, que oferece um rendimento mensal sempre que o saldo na conta completa um mês. Evidentemente é necessário oferecer aos clientes a possibilidade de verificar saldos, extratos e um resumo com todas as informações da conta e seus respectivos clientes.",
      "metadata": {}
    },
    {
      "cell_type": "code",
      "source": "",
      "metadata": {},
      "execution_count": null,
      "outputs": []
    },
    {
      "cell_type": "markdown",
      "source": "Exercício 2: Biblioteca\nCrie as classes necessárias para um sistema de gerenciamento de uma biblioteca. Os bibliotecários deverão preencher o sistema com o título do livro, os autores, o ano, a editora, a edição e o volume. A biblioteca também terá um sistema de pesquisa (outro software), portanto será necessário conseguir acessar os atributos típicos de pesquisa (nome, autor, …).",
      "metadata": {}
    },
    {
      "cell_type": "code",
      "source": "\"\"\"Foram utilizadas duas classes: uma que armazena os atributos do livro e uma que armazenas os livros. Considerei típico apenas os atributos nome, \nautor, ano e editora. Para pesquisar um atributo (bem como printar as informações do livro), utilizei as funções 'get'.\"\"\"\n\nclass Livro:\n    def __init__(self,titulo,autores,ano,editora,edicao,volume):\n        self.titulo = titulo\n        self.autor = autores\n        self.ano = ano\n        self.editora = editora\n        self.edicao = edicao\n        self.volume = volume\n    \n    def get_titulo(self):\n        return self.titulo\n    def get_ano(self):\n        return self.ano\n    def get_autores(self):\n        return self.autor\n    def get_editora(self):\n        return self.editora\n    def get_edicao(self):\n        return self.edicao\n    def get_volume(self):\n        return self.volume\n    \nclass Biblioteca:\n    def __init__(self,livros = []):\n        self.livros = livros\n    \n    def inserir_livro(self,livro):\n        self.livros.append(livro)\n    \n    def get_livros(self):\n        return self.livros\n    \nbiblioteca = Biblioteca()\nl1 = Livro(\"A volta dos que não foram\", [\"Jorge Silva\",\"Gabriel Gabriel\"], 2013, \"Editora Jovem\", 4, 5)\nl2 = Livro(\"Jogos Covardes\", [\"Claudinha Caramelo\"], 2010, \"Editora Velha\", 1, 3)\nl3 = Livro(\"Python para leigos\", [\"Desconhecido\"], 2009, \"Editora P\", 3, 1)\nl4 = Livro(\"Java para leigos\", [\"Desconhecido\"], 2010, \"Editora P\", 5, 2)\nbiblioteca.inserir_livro(l1)\nbiblioteca.inserir_livro(l2)\nbiblioteca.inserir_livro(l3)\nbiblioteca.inserir_livro(l4)",
      "metadata": {
        "trusted": true
      },
      "execution_count": 27,
      "outputs": []
    },
    {
      "cell_type": "code",
      "source": "def titulo(palavra):\n    livros = []\n    for l in biblioteca.get_livros():\n        if palavra in l.get_titulo():\n            livros.append(l)\n    return livros\n\ndef autores(autor):\n    livros = []\n    for l in biblioteca.get_livros():\n        if autor in l.get_autores():\n            livros.append(l)\n    return livros\n\ndef ano(ano):\n    livros = []\n    for l in biblioteca.get_livros():\n        if ano == l.get_ano():\n            livros.append(l)\n    return livros\n\ndef editora(editora):\n    livros = []\n    for l in biblioteca.get_livros():\n        if editora in l.get_editora():\n            livros.append(l)\n    return livros\n\npesquisas = [editora(\"Jovem\"), titulo(\"leigos\"), autores(\"Desconhecido\"), ano(2010)]\nfor pesquisa in pesquisas:\n    for livro in pesquisa:\n        print(f\"Título: {livro.get_titulo()}\")\n        print(f\"Autores: {livro.get_autores()}\")\n        print(f\"Ano: {livro.get_ano()}\")\n        print(f\"Editora: {livro.get_editora()}\")\n        print(f\"Edição: {livro.get_edicao()}\")\n        print(f\"Volume: {livro.get_volume()}\") \n        print()\n    print(\"___________________\")",
      "metadata": {
        "trusted": true
      },
      "execution_count": 26,
      "outputs": [
        {
          "name": "stdout",
          "text": "Título: A volta dos que não foram\nAutores: ['Jorge Silva', 'Gabriel Gabriel']\nAno: 2013\nEditora: Editora Jovem\nEdição: 4\nVolume: 5\n\n___________________\nTítulo: Python para leigos\nAutores: ['Desconhecido']\nAno: 2009\nEditora: Editora P\nEdição: 3\nVolume: 1\n\nTítulo: Java para leigos\nAutores: ['Desconhecido']\nAno: 2010\nEditora: Editora P\nEdição: 5\nVolume: 2\n\n___________________\nTítulo: Python para leigos\nAutores: ['Desconhecido']\nAno: 2009\nEditora: Editora P\nEdição: 3\nVolume: 1\n\nTítulo: Java para leigos\nAutores: ['Desconhecido']\nAno: 2010\nEditora: Editora P\nEdição: 5\nVolume: 2\n\n___________________\nTítulo: Jogos Covardes\nAutores: ['Claudinha Caramelo']\nAno: 2010\nEditora: Editora Velha\nEdição: 1\nVolume: 3\n\nTítulo: Java para leigos\nAutores: ['Desconhecido']\nAno: 2010\nEditora: Editora P\nEdição: 5\nVolume: 2\n\n___________________\n",
          "output_type": "stream"
        }
      ]
    },
    {
      "cell_type": "markdown",
      "source": "Exercício 3: Polinômio\nCrie uma classe que modela um polinômio do tipo c0 + c1*x + c2*x^2 + … + cN*x^N . Os usuários serão estudantes de engenharia e ciências da computação que querem resolver exercícios de álgebra. A entrada são os N coeficientes em ordem crescente de potência. Os usuários precisarão acessar o grau do polinômio, avaliar o resultado para dado valor de x, somar e multiplicar dois polinômios. --- Desafio: Implemente um método que plota o polinômio para um dado intervalo de entrada.",
      "metadata": {}
    },
    {
      "cell_type": "code",
      "source": "\"\"\"Para uma simplificação, a classe polinômio só tem o atributo coeficientes, uma lista, em que a posição também indica o grau do x que \nmultiplica cada um (posição 1 = c1.x^1, posição 5, = c5.x^5, etc). Por conta do retorno da soma e multiplicação de polinômios, decidi criar uma função\nque imprimi eles da forma mais correta. Para plotar um polinômio para um dado intervalo de entrada (que entendi como range(início,fim)), utilizei a\nbiblioteca matplotlib\"\"\"\n\nimport copy\nimport matplotlib.pyplot as plt\n\nclass Polinomio:\n    def __init__(self, coeficientes):\n        self.coeficientes = [int(x) for x in coeficientes.split()]\n        \n    def grau(self):\n        return len(self.coeficientes) -1\n    \n    def imprimir_polinomio(self):\n        c1 = self.coeficientes\n        p = ''\n        for a in range(len(c1)):\n            if c1[a] == 0: continue\n            elif a == 0: p += f\"{c1[a]}+\"\n            else: p += f\"{c1[a]}x^{a}+\"\n        \n        p = p[:-1]\n        return p\n        \n    def grafico(self,entrada):\n        valoresY = []\n        entrada.sort()\n        \n        for valor in entrada:\n            valoresY.append(self.calcula(valor))\n        \n        plt.plot(entrada,valoresY)\n        plt.xlabel('Entradas')\n        plt.ylabel('Resultados')\n        plt.show()\n            \n    def calcula(self,valorX):\n        resultado = 0\n        for potencia,coeficiente in enumerate(self.coeficientes):\n            resultado += coeficiente*valorX**potencia\n        \n        return resultado\n    \n    def somar(self,p2):\n      \n        if len(self.coeficientes) > len(p2.coeficientes):\n            p1, p2 = copy.deepcopy(self), copy.deepcopy(p2)\n        else:\n            p1, p2 = copy.deepcopy(p2), copy.deepcopy(self)\n         \n        for i in range(len(p2.coeficientes)):\n            p1.coeficientes[i] += p2.coeficientes[i]\n        \n        return p1.imprimir_polinomio()\n    \n    def multi(self,p2):\n        grau_final = len(self.coeficientes)+len(p2.coeficientes)\n        p_final = Polinomio(\"0 \"*(grau_final-1))\n\n        for g1,c1 in enumerate(self.coeficientes):\n            for g2,c2 in enumerate(p2.coeficientes):\n                p_final.coeficientes[g1+g2] += c1*c2\n        \n        return p_final.imprimir_polinomio()\n\npoli1 = Polinomio(\"3 4 5 6\")\npoli2 = Polinomio(\"5 3 9 10 15\")\nprint(\"Polinômio:\", poli1.imprimir_polinomio())\nprint(\"Grau do polinômio:\", poli1.grau())\nprint(\"Resultado para o x = 9:\", poli1.calcula(9))\nprint(\"Resultado da soma dos polinômios:\", poli1.somar(poli2))\nprint(\"Resultado da múltiplicação dos polinômios:\", poli1.multi(poli2))\nentrada = list(range(4,20))\npoli1.grafico(entrada)",
      "metadata": {
        "trusted": true
      },
      "execution_count": 4,
      "outputs": [
        {
          "name": "stdout",
          "text": "Polinômio: 3+4x^1+5x^2+6x^3\nGrau do polinômio: 3\nResultado para o x = 9: 4818\nResultado da soma dos polinômios: 8+7x^1+14x^2+16x^3+15x^4\nResultado da múltiplicação dos polinômios: 15+29x^1+64x^2+111x^3+148x^4+164x^5+135x^6+90x^7\n",
          "output_type": "stream"
        },
        {
          "output_type": "display_data",
          "data": {
            "text/plain": "<pyolite.display.Image at 0x31423e0>",
            "image/png": "[encoded data removed]"
          },
          "metadata": {}
        }
      ]
    },
    {
      "cell_type": "markdown",
      "source": "Exercício 4: Séries\nImplemente uma classe que, implementa algumas séries matemáticas importantes: Fibonacci,Fatorial, Fibonarial, Primo. Use recursão para Fibonacci e Fatorial.",
      "metadata": {}
    },
    {
      "cell_type": "code",
      "source": "\"\"\"No exercício 4, a função fibonarial foi interpretada como o produto de uma sequência de fibonacci de certo número de valores \n(fibonarial de 5 = 8*3*2*1*1 = 240). Já a função primo está relacionado apenas a se um número é primo ou não\"\"\"\n\nclass Serie_mtm:\n    def __init__(self,valor):\n        self.valor = valor\n        \n    def fibonacci(self):\n        lista = [1,1]\n        for i in range(0,self.valor-2):\n            lista.append(lista[i]+lista[i+1])\n        return lista\n        \n    def fatorial(self):\n        valor = self.valor\n        resultado = self.valor\n        while True:\n            valor_anterior = valor-1\n            if valor_anterior < 1:\n                break\n            resultado = resultado*valor_anterior\n            valor = valor_anterior\n        return resultado\n        \n    def fibonarial(self):\n        lista = self.fibonacci()\n        resultado = lista[0]\n        \n        for a in range(1,len(lista)):\n            resultado = resultado*lista[a]\n        \n        return resultado\n    \n    def primo(self):\n        for i in range(2,self.valor):\n            if self.valor%i == 0:\n                return \"não\" \n        return \"sim\"\n    \nteste = Serie_mtm(7)\nprint(f\"Sequência dos primeiros {teste.valor} números de Fibonacci: {teste.fibonacci()}\")\nprint(f\"Valor de {teste.valor}!: {teste.fatorial()}\")\nprint(f\"Valor de fibonarial de {teste.valor}: {teste.fibonarial()}\")\nprint(f\"O número {teste.valor} é primo: {teste.primo()}\")",
      "metadata": {
        "trusted": true
      },
      "execution_count": 5,
      "outputs": [
        {
          "name": "stdout",
          "text": "Sequência dos primeiros 7 números de Fibonacci: [1, 1, 2, 3, 5, 8, 13]\nValor de 7!: 5040\nValor de fibonarial de 7: 3120\nO número 7 é primo: sim\n",
          "output_type": "stream"
        }
      ]
    },
    {
      "cell_type": "markdown",
      "source": "Exercício 5: Análise Combinatória\nUtilizando classes para Fração e Fatorial, implemente uma classe para a realização de análise\ncombinatória: permutação, arranjo e combinação. Implemente otimizações que permitam\nreduzir a carga computacional para realizar tais operações. A classe que realizará as\noperações de análise combinatória deve receber uma lista de elementos de tamanho (n) e um\nnúmero de posições de tamanho (p). Devem ser disponibilizados métodos que retornam o\nnúmero de permutas/arranjos/combinações possíveis, bem como umas das possíveis\npermutas/arranjos/combinações de forma aleatória.",
      "metadata": {}
    },
    {
      "cell_type": "code",
      "source": "\"\"\"Para esse exercício, foi utilizado a classe Serie_mtm do exercício 4 para calcular a fatorial e a classe Fracao do Warp-up 10 para formação da\nfração e do cálculo do valor real. A decisão de uma possível permuta/arranjo/combinacao foi colocar num mesmo método, visto que, como o retorno é de\napenas uma possibilidade, não haveria necessidade de verificação de ordem (o q diferencia arranjo de combinação, por exemplo)\"\"\"\n\nimport random\n\nclass Analise:\n    def __init__(self,valores,p):\n        self.valores = valores\n        self.n = len(valores)\n        self.p = p\n    \n    def permut(self):\n        return Serie_mtm(self.n).fatorial()\n    \n    def arranjo(self):\n        fracao = Fracao(Serie_mtm(self.n).fatorial(),Serie_mtm(self.n-self.p).fatorial())\n        return int(fracao.valor_real())\n    \n    def combinacao(self):\n        fracao = Fracao(self.arranjo(),Serie_mtm(self.p).fatorial())\n        return int(fracao.valor_real())\n    \n    def possivel(self):\n        aux = ['']*self.p\n        dados = self.valores[:]\n        for valor in range(self.p):\n            aux[valor] = random.choice(dados)\n            dados.remove(aux[valor])\n        \n        return aux\n\na1 = Analise(['a','b','c','d','e','f'],3)\nprint(a1.permut())\nprint(a1.arranjo())\nprint(a1.combinacao())\nprint(a1.possivel())",
      "metadata": {
        "trusted": true
      },
      "execution_count": 147,
      "outputs": [
        {
          "name": "stdout",
          "text": "720\n120\n20\n['b', 'e', 'f']\n",
          "output_type": "stream"
        }
      ]
    },
    {
      "cell_type": "markdown",
      "source": "Exercício 6: Baralho de cartas\nProjete e implemente um baralho de cartas genérico, isto é, que poderia ser usado para\nimplementar diversos jogos de carta.",
      "metadata": {}
    },
    {
      "cell_type": "code",
      "source": "",
      "metadata": {},
      "execution_count": null,
      "outputs": []
    },
    {
      "cell_type": "markdown",
      "source": "Exercício 7: Sistema de Leitura Online\nImplemente um sistema de leitura online que possua as seguintes funcionalidades:\n● Criação e gerenciamento de usuários\n● Busca pelos livros disponíveis (reutilizar classes do exercício 2)\n● Leitura de livro (página por página)\n○ Apenas um usuário por vez\n○ Apenas um livro ativo por usuário\nA implementação dos métodos referentes a visualização na tela (display) podem ser\nsubstituídos por um comentário dentro do métodos, ex. “”” atualiza elementoX na tela “””",
      "metadata": {}
    },
    {
      "cell_type": "code",
      "source": "",
      "metadata": {},
      "execution_count": null,
      "outputs": []
    },
    {
      "cell_type": "markdown",
      "source": "Exercício 8: Reimplemente o jogo da forca completamente orientado a objetos",
      "metadata": {}
    },
    {
      "cell_type": "code",
      "source": "",
      "metadata": {},
      "execution_count": null,
      "outputs": []
    },
    {
      "cell_type": "markdown",
      "source": "Exercício 9: Campo minado\nProjete os atributos e os métodos (sem implementação) necessários para a criação de um\ncampo minado.\n--- Desafio: Realize a implementação do jogo em modo textual",
      "metadata": {}
    },
    {
      "cell_type": "code",
      "source": "",
      "metadata": {},
      "execution_count": null,
      "outputs": []
    },
    {
      "cell_type": "markdown",
      "source": "Exercício 10: Organização das Turmas\nCrie um sistema que gerencia o cadastro de alunos e professores em turmas. Os usuários\nserão os membros da secretaria. Eles devem conseguir visualizar os alunos matriculados em\ncada turma, com seus dados, suas notas e presenças. Além disso, os secretários precisam ter\nacesso a dados cadastrais dos professores associados à disciplina.",
      "metadata": {}
    },
    {
      "cell_type": "code",
      "source": "",
      "metadata": {},
      "execution_count": null,
      "outputs": []
    }
  ]
}